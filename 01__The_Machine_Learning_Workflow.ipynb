{
  "nbformat": 4,
  "nbformat_minor": 0,
  "metadata": {
    "colab": {
      "provenance": [],
      "authorship_tag": "ABX9TyOUtpIEZAjklR/rFG1f7R2f",
      "include_colab_link": true
    },
    "kernelspec": {
      "name": "python3",
      "display_name": "Python 3"
    },
    "language_info": {
      "name": "python"
    }
  },
  "cells": [
    {
      "cell_type": "markdown",
      "metadata": {
        "id": "view-in-github",
        "colab_type": "text"
      },
      "source": [
        "<a href=\"https://colab.research.google.com/github/gabrielbaltazarmw2/Machine-Learning-Projects/blob/main/01__The_Machine_Learning_Workflow.ipynb\" target=\"_parent\"><img src=\"https://colab.research.google.com/assets/colab-badge.svg\" alt=\"Open In Colab\"/></a>"
      ]
    },
    {
      "cell_type": "markdown",
      "source": [
        "![image.png](data:image/png;base64,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)"
      ],
      "metadata": {
        "id": "mDSs6hV_qyef"
      }
    },
    {
      "cell_type": "markdown",
      "source": [
        "#Data Collection and Exploration\n",
        "\n",
        "##Instructions\n",
        "\n",
        "The Machine Learning Workflow\n",
        "2 of 10 · Data Collection and Exploration\n",
        "Learn\n",
        "On the previous screen, we learned what machine learning is and about the machine learning workflow. Let's put what we learned into action!\n",
        "\n",
        "We'll build a model that predicts whether a patient has breast cancer. We'll start with the data.\n",
        "\n",
        "\n",
        "While it's possible, it's not always feasible to collect our own data. Fortunately, there are a lot of publicly available datasets that we can freely access and work with, depending on what kind of problem we want to solve.\n",
        "\n",
        "We'll work with the Breast Cancer Wisconsin (Diagnostic) Dataset. The scikit-learn library stores several datasets, including this breast cancer dataset, and makes it convenient for us to load and work with them.\n",
        "\n",
        "On the first screen, we looked at what kind of data could be collected by a company like Dataquest:\n",
        "\n",
        "How many lessons students have completed on the website.\n",
        "How many courses they've completed so far.\n",
        "How many exercises they've successfully passed.\n",
        "How many hours they've spent on each lesson.\n",
        "Each of the above is called a feature. They all describe or are a property of our data. When we work with tabular data, each column name corresponds to a feature -- except one:\n",
        "\n",
        "Whether or not a learner has already completed the course.\n",
        "The column corresponding to the above is called the target variable because that's what we want our model to predict. That's our target.\n",
        "\n",
        "Every row for the above would contain information related to an individual learner. Each of these rows is called an observation or a feature vector. It's an n-dimensional vector of features.\n",
        "\n",
        "Let's look at the dataset we'll be working with. The link to our dataset provides us with the following information:\n",
        "\n",
        "There are a total of 30 attributes, or 30 features.\n",
        "There are a total of 569 instances or observations.\n",
        "There are two classes in the target variable:\n",
        "WDBC-Malignant\n",
        "WDBC-Benign\n",
        "The above two classes, or labels, tell us whether a patient has a benign or a malignant tumor. For every observation, there's a corresponding class or label in our data.\n",
        "\n",
        "Let's load in our dataset using scikit-learn's load_breast_cancer function. The function will return an object with several attributes, a couple of which we will utilize:\n",
        "\n",
        "data stores the data points.\n",
        "target stores the value 0 if the tumor is benign or 1 if the tumor is malignant.\n",
        "Instructions\n",
        "Import the following libraries:\n",
        "\n",
        "pandas as pd.\n",
        "From sklearn.datasets import load_breast_cancer\n",
        "Call the load_breast_cancer() function.\n",
        "\n",
        "2.1 Pass the parameter as_frame to the function and set it to True.\n",
        "\n",
        "This will return the data attribute as a pandas' DataFrame and the target attribute as a Series.\n",
        "2.2 Save the output to the variable cancer_data.\n",
        "\n",
        "To a variable cancer_df assign the data attribute from cancer_data.\n",
        "\n",
        "Add a column called target to cancer_df and assign the target attribute from cancer_data to that column.\n",
        "\n",
        "Explore the dataset:\n",
        "\n",
        "Look at the first few observations in the dataset.\n",
        "Print out the shape of the dataset and confirm that the number of features and observations are same as the ones listed above.\n",
        "Calculate and print the number of missing values in each column.\n",
        "Calculate and print the number of patients with a benign tumor and the number of patients with a malignant tumor.\n",
        "Display the summary statistics for the dataset."
      ],
      "metadata": {
        "id": "6GUF1vFUhEV4"
      }
    },
    {
      "cell_type": "code",
      "execution_count": null,
      "metadata": {
        "id": "fu_op-iMg9Tk"
      },
      "outputs": [],
      "source": [
        "import pandas as pd\n",
        "from sklearn.datasets import load_breast_cancer\n",
        "\n",
        "cancer_data = load_breast_cancer(as_frame=True)  # importando como frame pandas\n",
        "\n",
        "cancer_df = cancer_data.data  # acessando o atibuto data\n",
        "\n",
        "cancer_df[\"target\"] = cancer_data.target  # criando uma nova coluna chamada target em cancer_df com os dados do atibuto target de cancer_data\n"
      ]
    },
    {
      "cell_type": "code",
      "source": [
        "# Display the first few observations in the dataset\n",
        "print(cancer_df.head())\n",
        "\n",
        "print(cancer_df.shape)"
      ],
      "metadata": {
        "colab": {
          "base_uri": "https://localhost:8080/"
        },
        "id": "X_N70lK7hX4n",
        "outputId": "83d65c68-53cc-4e45-9aae-683cf75d4cc1"
      },
      "execution_count": null,
      "outputs": [
        {
          "output_type": "stream",
          "name": "stdout",
          "text": [
            "   mean radius  mean texture  mean perimeter  mean area  mean smoothness  \\\n",
            "0        17.99         10.38          122.80     1001.0          0.11840   \n",
            "1        20.57         17.77          132.90     1326.0          0.08474   \n",
            "2        19.69         21.25          130.00     1203.0          0.10960   \n",
            "3        11.42         20.38           77.58      386.1          0.14250   \n",
            "4        20.29         14.34          135.10     1297.0          0.10030   \n",
            "\n",
            "   mean compactness  mean concavity  mean concave points  mean symmetry  \\\n",
            "0           0.27760          0.3001              0.14710         0.2419   \n",
            "1           0.07864          0.0869              0.07017         0.1812   \n",
            "2           0.15990          0.1974              0.12790         0.2069   \n",
            "3           0.28390          0.2414              0.10520         0.2597   \n",
            "4           0.13280          0.1980              0.10430         0.1809   \n",
            "\n",
            "   mean fractal dimension  ...  worst texture  worst perimeter  worst area  \\\n",
            "0                 0.07871  ...          17.33           184.60      2019.0   \n",
            "1                 0.05667  ...          23.41           158.80      1956.0   \n",
            "2                 0.05999  ...          25.53           152.50      1709.0   \n",
            "3                 0.09744  ...          26.50            98.87       567.7   \n",
            "4                 0.05883  ...          16.67           152.20      1575.0   \n",
            "\n",
            "   worst smoothness  worst compactness  worst concavity  worst concave points  \\\n",
            "0            0.1622             0.6656           0.7119                0.2654   \n",
            "1            0.1238             0.1866           0.2416                0.1860   \n",
            "2            0.1444             0.4245           0.4504                0.2430   \n",
            "3            0.2098             0.8663           0.6869                0.2575   \n",
            "4            0.1374             0.2050           0.4000                0.1625   \n",
            "\n",
            "   worst symmetry  worst fractal dimension  target  \n",
            "0          0.4601                  0.11890       0  \n",
            "1          0.2750                  0.08902       0  \n",
            "2          0.3613                  0.08758       0  \n",
            "3          0.6638                  0.17300       0  \n",
            "4          0.2364                  0.07678       0  \n",
            "\n",
            "[5 rows x 31 columns]\n",
            "(569, 31)\n"
          ]
        }
      ]
    },
    {
      "cell_type": "code",
      "source": [
        "# Calculate and print the number of missing values in each column\n",
        "missing_values = cancer_df.isna().sum()\n",
        "print(missing_values)"
      ],
      "metadata": {
        "colab": {
          "base_uri": "https://localhost:8080/"
        },
        "id": "tCcx9jJohcXr",
        "outputId": "a9e5fce6-1aea-4d0d-cdd9-87fc6dd3aa1b"
      },
      "execution_count": null,
      "outputs": [
        {
          "output_type": "stream",
          "name": "stdout",
          "text": [
            "mean radius                0\n",
            "mean texture               0\n",
            "mean perimeter             0\n",
            "mean area                  0\n",
            "mean smoothness            0\n",
            "mean compactness           0\n",
            "mean concavity             0\n",
            "mean concave points        0\n",
            "mean symmetry              0\n",
            "mean fractal dimension     0\n",
            "radius error               0\n",
            "texture error              0\n",
            "perimeter error            0\n",
            "area error                 0\n",
            "smoothness error           0\n",
            "compactness error          0\n",
            "concavity error            0\n",
            "concave points error       0\n",
            "symmetry error             0\n",
            "fractal dimension error    0\n",
            "worst radius               0\n",
            "worst texture              0\n",
            "worst perimeter            0\n",
            "worst area                 0\n",
            "worst smoothness           0\n",
            "worst compactness          0\n",
            "worst concavity            0\n",
            "worst concave points       0\n",
            "worst symmetry             0\n",
            "worst fractal dimension    0\n",
            "target                     0\n",
            "dtype: int64\n"
          ]
        }
      ]
    },
    {
      "cell_type": "code",
      "source": [
        "# Calculate and print the number of patients with benign and malignant tumors\n",
        "tumor_counts = cancer_df['target'].value_counts()\n",
        "\n",
        "# Display the counts\n",
        "print(\"Number of patients with benign tumor (target = 0):\", tumor_counts[0])\n",
        "print(\"Number of patients with malignant tumor (target = 1):\", tumor_counts[1])"
      ],
      "metadata": {
        "colab": {
          "base_uri": "https://localhost:8080/"
        },
        "id": "R8M69WtLhkC2",
        "outputId": "4c08239e-10de-41ca-eb24-758569d7326b"
      },
      "execution_count": null,
      "outputs": [
        {
          "output_type": "stream",
          "name": "stdout",
          "text": [
            "Number of patients with benign tumor (target = 0): 212\n",
            "Number of patients with malignant tumor (target = 1): 357\n"
          ]
        }
      ]
    },
    {
      "cell_type": "code",
      "source": [
        "# Display the summary statistics for the dataset\n",
        "summary_stats = cancer_df.describe()\n",
        "\n",
        "# Print the summary statistics\n",
        "print(summary_stats)\n"
      ],
      "metadata": {
        "colab": {
          "base_uri": "https://localhost:8080/"
        },
        "id": "IetJ5WC4hmf-",
        "outputId": "b8a5504e-481b-4e71-b98b-687524fea357"
      },
      "execution_count": null,
      "outputs": [
        {
          "output_type": "stream",
          "name": "stdout",
          "text": [
            "       mean radius  mean texture  mean perimeter    mean area  \\\n",
            "count   569.000000    569.000000      569.000000   569.000000   \n",
            "mean     14.127292     19.289649       91.969033   654.889104   \n",
            "std       3.524049      4.301036       24.298981   351.914129   \n",
            "min       6.981000      9.710000       43.790000   143.500000   \n",
            "25%      11.700000     16.170000       75.170000   420.300000   \n",
            "50%      13.370000     18.840000       86.240000   551.100000   \n",
            "75%      15.780000     21.800000      104.100000   782.700000   \n",
            "max      28.110000     39.280000      188.500000  2501.000000   \n",
            "\n",
            "       mean smoothness  mean compactness  mean concavity  mean concave points  \\\n",
            "count       569.000000        569.000000      569.000000           569.000000   \n",
            "mean          0.096360          0.104341        0.088799             0.048919   \n",
            "std           0.014064          0.052813        0.079720             0.038803   \n",
            "min           0.052630          0.019380        0.000000             0.000000   \n",
            "25%           0.086370          0.064920        0.029560             0.020310   \n",
            "50%           0.095870          0.092630        0.061540             0.033500   \n",
            "75%           0.105300          0.130400        0.130700             0.074000   \n",
            "max           0.163400          0.345400        0.426800             0.201200   \n",
            "\n",
            "       mean symmetry  mean fractal dimension  ...  worst texture  \\\n",
            "count     569.000000              569.000000  ...     569.000000   \n",
            "mean        0.181162                0.062798  ...      25.677223   \n",
            "std         0.027414                0.007060  ...       6.146258   \n",
            "min         0.106000                0.049960  ...      12.020000   \n",
            "25%         0.161900                0.057700  ...      21.080000   \n",
            "50%         0.179200                0.061540  ...      25.410000   \n",
            "75%         0.195700                0.066120  ...      29.720000   \n",
            "max         0.304000                0.097440  ...      49.540000   \n",
            "\n",
            "       worst perimeter   worst area  worst smoothness  worst compactness  \\\n",
            "count       569.000000   569.000000        569.000000         569.000000   \n",
            "mean        107.261213   880.583128          0.132369           0.254265   \n",
            "std          33.602542   569.356993          0.022832           0.157336   \n",
            "min          50.410000   185.200000          0.071170           0.027290   \n",
            "25%          84.110000   515.300000          0.116600           0.147200   \n",
            "50%          97.660000   686.500000          0.131300           0.211900   \n",
            "75%         125.400000  1084.000000          0.146000           0.339100   \n",
            "max         251.200000  4254.000000          0.222600           1.058000   \n",
            "\n",
            "       worst concavity  worst concave points  worst symmetry  \\\n",
            "count       569.000000            569.000000      569.000000   \n",
            "mean          0.272188              0.114606        0.290076   \n",
            "std           0.208624              0.065732        0.061867   \n",
            "min           0.000000              0.000000        0.156500   \n",
            "25%           0.114500              0.064930        0.250400   \n",
            "50%           0.226700              0.099930        0.282200   \n",
            "75%           0.382900              0.161400        0.317900   \n",
            "max           1.252000              0.291000        0.663800   \n",
            "\n",
            "       worst fractal dimension      target  \n",
            "count               569.000000  569.000000  \n",
            "mean                  0.083946    0.627417  \n",
            "std                   0.018061    0.483918  \n",
            "min                   0.055040    0.000000  \n",
            "25%                   0.071460    0.000000  \n",
            "50%                   0.080040    1.000000  \n",
            "75%                   0.092080    1.000000  \n",
            "max                   0.207500    1.000000  \n",
            "\n",
            "[8 rows x 31 columns]\n"
          ]
        }
      ]
    },
    {
      "cell_type": "markdown",
      "source": [
        "The Machine Learning Workflow\n",
        "4 of 10 ·\n",
        "\n",
        "#Data Preparation\n",
        "Learn\n",
        "In the previous screens, we came across a couple of concepts:\n",
        "\n",
        "Training a model on our data.\n",
        "Using the model to make a prediction on unseen data.\n",
        "The data that we use to train our model is called training data, a training set or a training dataset.\n",
        "\n",
        "The unseen data, as the name suggests, is data that our model hasn't seen before. The model has not trained on that data and will only use that data and predict a label for it.\n",
        "\n",
        "This unseen data is called test data, a test set or a test dataset. It's used to evaluate the model's performance. Since we don't have any additional data to use as a test set, we can randomly select a small set of observations from our original dataset and set it aside. That way, we can train our model on the rest of the dataset and test it later using the test set.\n",
        "\n",
        "Next we'll prepare our training and test datasets using scikit-learn's train_test_split function. There will be two stages to this process:\n",
        "\n",
        "The function expects the feature columns and the target column as inputs. If we look at the examples in the documentation, those two are passed to the function as X and y. As we work with the library more, we'll notice this convention often--the input data is usually stored in X and the target variable is stored in y. We'll follow the same convention here.\n",
        "\n",
        "The function will split the dataset into a training set and a test set based on a proportion that we decide. Usually, the test set's size is about 15 to 20 percent of the dataset's. Different factors, such as the original dataset's size, can also play a part in deciding that percentage.\n",
        "\n",
        "The function splits the data randomly into each set. We'll learn why that's relevant in a future lesson.\n",
        "The output of train_test_split() is a list containing 4 elements:\n",
        "The training set features.\n",
        "The test set features.\n",
        "The training set labels.\n",
        "The test set labels.\n",
        "Note that there can be, and usually are, multiple steps as part of preparing the data. For example, we might have to clean our data before we train a model on it. We'll cover this topic in more detail in a later lesson.\n",
        "\n",
        "##Instructions\n",
        "Import train_test_split from sklearn.model_selection\n",
        "Store the feature columns in the variable X.\n",
        "Note that X should not contain the target column.\n",
        "Store the target column in the variable y.\n",
        "Call the train_test_split() function and pass the following parameters to it:\n",
        "X\n",
        "y\n",
        "test_size=0.15\n",
        "random_state=417\n",
        "Since the data is split randomly, setting a random_state to a specific number allows us to reproduce the same results every time we run the code.\n",
        "Save the output of the function to the variables X_train, X_test, y_train, y_test."
      ],
      "metadata": {
        "id": "6xJ3S2hnqNq-"
      }
    },
    {
      "cell_type": "code",
      "source": [
        "import pandas as pd\n",
        "from sklearn.datasets import load_breast_cancer\n",
        "\n",
        "cancer_data = load_breast_cancer(as_frame = True)\n",
        "cancer_df = cancer_data.data\n",
        "cancer_df['target'] = cancer_data.target\n",
        "\n",
        "from sklearn.model_selection import train_test_split\n",
        "\n",
        "# Armazenar todas as colunas, exceto 'target'\n",
        "X = cancer_df.loc[:, cancer_df.columns != 'target']\n",
        "\n",
        "# Armazena apenas a coluna 'target'\n",
        "y = cancer_df['target']\n",
        "\n",
        "X_train, X_test, y_train, y_test = train_test_split(X, y, test_size=0.15, random_state=417)"
      ],
      "metadata": {
        "id": "H1kkTPsAqghI"
      },
      "execution_count": null,
      "outputs": []
    },
    {
      "cell_type": "markdown",
      "source": [
        "The Machine Learning Workflow\n",
        "5 of 10 ·\n",
        "#Building and Training a Classifier\n",
        "Learn\n",
        "We have our training data ready! We can now train a model.\n",
        "\n",
        "\n",
        "scikit-learn offers many machine learning models. We can pick any one of the classification models and use it out of the box.\n",
        "\n",
        "That's exactly what we'll do. We'll use the Linear Support Vector Classification model. We can check the documentation to see what kind of input parameters it can take. scikit-learn makes it easy for us to use the model without needing to understand the minute details of the algorithm. We'll observe this soon.\n",
        "\n",
        "There are only two steps for building and training the model:\n",
        "\n",
        "We first instantiate the model. This is similar to how we would instantiate a Python class.\n",
        "\n",
        "This step doesn't take any training data as input. We can, however, define and set the values for the parameters we saw in the documentation linked above.\n",
        "We fit the model onto the training data features (X) and labels (y). Fitting the model is the same as training our model.\n",
        "\n",
        "##Instructions\n",
        "From sklearn.svm import LinearSVC\n",
        "Create an instance of LinearSVC and assign it to model. Pass the following parameters when instantiating:\n",
        "penalty=\"l2\"\n",
        "loss=\"squared_hinge\"\n",
        "C=10\n",
        "random_state=417\n",
        "This ensures that the result is reproducible.\n",
        "Call model.fit() and pass the following parameters to the function:\n",
        "X_train\n",
        "y_train"
      ],
      "metadata": {
        "id": "F8b7G53tr7Qf"
      }
    },
    {
      "cell_type": "code",
      "source": [
        "import pandas as pd\n",
        "from sklearn.datasets import load_breast_cancer\n",
        "from sklearn.model_selection import train_test_split\n",
        "\n",
        "cancer_data = load_breast_cancer(as_frame = True)\n",
        "cancer_df = cancer_data.data\n",
        "cancer_df['target'] = cancer_data.target\n",
        "\n",
        "X = cancer_df.drop([\"target\"], axis=1)\n",
        "y = cancer_df[\"target\"]\n",
        "\n",
        "X_train, X_test, y_train, y_test = train_test_split(X, y, test_size=0.15, random_state = 417)\n",
        "\n",
        "from sklearn.svm import LinearSVC\n",
        "\n",
        "model = LinearSVC(penalty=\"l2\", loss=\"squared_hinge\", C=10, random_state=417)\n",
        "\n",
        "model.fit(X_train,y_train)"
      ],
      "metadata": {
        "colab": {
          "base_uri": "https://localhost:8080/",
          "height": 109
        },
        "id": "OI7d8OrosEjS",
        "outputId": "1b786891-f985-4038-db2c-5ffaa03d2d27"
      },
      "execution_count": null,
      "outputs": [
        {
          "output_type": "stream",
          "name": "stderr",
          "text": [
            "/usr/local/lib/python3.10/dist-packages/sklearn/svm/_base.py:1244: ConvergenceWarning: Liblinear failed to converge, increase the number of iterations.\n",
            "  warnings.warn(\n"
          ]
        },
        {
          "output_type": "execute_result",
          "data": {
            "text/plain": [
              "LinearSVC(C=10, random_state=417)"
            ],
            "text/html": [
              "<style>#sk-container-id-1 {color: black;background-color: white;}#sk-container-id-1 pre{padding: 0;}#sk-container-id-1 div.sk-toggleable {background-color: white;}#sk-container-id-1 label.sk-toggleable__label {cursor: pointer;display: block;width: 100%;margin-bottom: 0;padding: 0.3em;box-sizing: border-box;text-align: center;}#sk-container-id-1 label.sk-toggleable__label-arrow:before {content: \"▸\";float: left;margin-right: 0.25em;color: #696969;}#sk-container-id-1 label.sk-toggleable__label-arrow:hover:before {color: black;}#sk-container-id-1 div.sk-estimator:hover label.sk-toggleable__label-arrow:before {color: black;}#sk-container-id-1 div.sk-toggleable__content {max-height: 0;max-width: 0;overflow: hidden;text-align: left;background-color: #f0f8ff;}#sk-container-id-1 div.sk-toggleable__content pre {margin: 0.2em;color: black;border-radius: 0.25em;background-color: #f0f8ff;}#sk-container-id-1 input.sk-toggleable__control:checked~div.sk-toggleable__content {max-height: 200px;max-width: 100%;overflow: auto;}#sk-container-id-1 input.sk-toggleable__control:checked~label.sk-toggleable__label-arrow:before {content: \"▾\";}#sk-container-id-1 div.sk-estimator input.sk-toggleable__control:checked~label.sk-toggleable__label {background-color: #d4ebff;}#sk-container-id-1 div.sk-label input.sk-toggleable__control:checked~label.sk-toggleable__label {background-color: #d4ebff;}#sk-container-id-1 input.sk-hidden--visually {border: 0;clip: rect(1px 1px 1px 1px);clip: rect(1px, 1px, 1px, 1px);height: 1px;margin: -1px;overflow: hidden;padding: 0;position: absolute;width: 1px;}#sk-container-id-1 div.sk-estimator {font-family: monospace;background-color: #f0f8ff;border: 1px dotted black;border-radius: 0.25em;box-sizing: border-box;margin-bottom: 0.5em;}#sk-container-id-1 div.sk-estimator:hover {background-color: #d4ebff;}#sk-container-id-1 div.sk-parallel-item::after {content: \"\";width: 100%;border-bottom: 1px solid gray;flex-grow: 1;}#sk-container-id-1 div.sk-label:hover label.sk-toggleable__label {background-color: #d4ebff;}#sk-container-id-1 div.sk-serial::before {content: \"\";position: absolute;border-left: 1px solid gray;box-sizing: border-box;top: 0;bottom: 0;left: 50%;z-index: 0;}#sk-container-id-1 div.sk-serial {display: flex;flex-direction: column;align-items: center;background-color: white;padding-right: 0.2em;padding-left: 0.2em;position: relative;}#sk-container-id-1 div.sk-item {position: relative;z-index: 1;}#sk-container-id-1 div.sk-parallel {display: flex;align-items: stretch;justify-content: center;background-color: white;position: relative;}#sk-container-id-1 div.sk-item::before, #sk-container-id-1 div.sk-parallel-item::before {content: \"\";position: absolute;border-left: 1px solid gray;box-sizing: border-box;top: 0;bottom: 0;left: 50%;z-index: -1;}#sk-container-id-1 div.sk-parallel-item {display: flex;flex-direction: column;z-index: 1;position: relative;background-color: white;}#sk-container-id-1 div.sk-parallel-item:first-child::after {align-self: flex-end;width: 50%;}#sk-container-id-1 div.sk-parallel-item:last-child::after {align-self: flex-start;width: 50%;}#sk-container-id-1 div.sk-parallel-item:only-child::after {width: 0;}#sk-container-id-1 div.sk-dashed-wrapped {border: 1px dashed gray;margin: 0 0.4em 0.5em 0.4em;box-sizing: border-box;padding-bottom: 0.4em;background-color: white;}#sk-container-id-1 div.sk-label label {font-family: monospace;font-weight: bold;display: inline-block;line-height: 1.2em;}#sk-container-id-1 div.sk-label-container {text-align: center;}#sk-container-id-1 div.sk-container {/* jupyter's `normalize.less` sets `[hidden] { display: none; }` but bootstrap.min.css set `[hidden] { display: none !important; }` so we also need the `!important` here to be able to override the default hidden behavior on the sphinx rendered scikit-learn.org. See: https://github.com/scikit-learn/scikit-learn/issues/21755 */display: inline-block !important;position: relative;}#sk-container-id-1 div.sk-text-repr-fallback {display: none;}</style><div id=\"sk-container-id-1\" class=\"sk-top-container\"><div class=\"sk-text-repr-fallback\"><pre>LinearSVC(C=10, random_state=417)</pre><b>In a Jupyter environment, please rerun this cell to show the HTML representation or trust the notebook. <br />On GitHub, the HTML representation is unable to render, please try loading this page with nbviewer.org.</b></div><div class=\"sk-container\" hidden><div class=\"sk-item\"><div class=\"sk-estimator sk-toggleable\"><input class=\"sk-toggleable__control sk-hidden--visually\" id=\"sk-estimator-id-1\" type=\"checkbox\" checked><label for=\"sk-estimator-id-1\" class=\"sk-toggleable__label sk-toggleable__label-arrow\">LinearSVC</label><div class=\"sk-toggleable__content\"><pre>LinearSVC(C=10, random_state=417)</pre></div></div></div></div></div>"
            ]
          },
          "metadata": {},
          "execution_count": 9
        }
      ]
    },
    {
      "cell_type": "markdown",
      "source": [
        "The Machine Learning Workflow\n",
        "6 of 10 ·\n",
        "#Evaluating the Model on Test Set I\n",
        "Learn\n",
        "We have successfully trained our model! But we don't know how well it performs.\n",
        "\n",
        "How can we measure the performance of a model?\n",
        "\n",
        "\n",
        "One of the most common ways to evaluate a classifier is to look at how accurate its predictions are. For a supervised learning task, we already know which class a particular observation belongs to.\n",
        "\n",
        "We can use our model to predict the labels of our test data. We can then calculate the accuracy of our model by comparing those predictions to the actual labels. But we don't need to do that all by ourselves.\n",
        "\n",
        "scikit-learn provides a method score() that can calculate that accuracy.\n",
        "\n",
        "##Instructions\n",
        "Call model.score(), assign it to test_accuracy, and pass in the following parameters:\n",
        "X_test\n",
        "y_test\n",
        "Print out the accuracy score obtained from the above function call.\n"
      ],
      "metadata": {
        "id": "xjG4qDoos-wo"
      }
    },
    {
      "cell_type": "code",
      "source": [
        "import pandas as pd\n",
        "from sklearn.datasets import load_breast_cancer\n",
        "from sklearn.model_selection import train_test_split\n",
        "from sklearn.svm import LinearSVC\n",
        "\n",
        "cancer_data = load_breast_cancer(as_frame = True)\n",
        "cancer_df = cancer_data.data\n",
        "cancer_df['target'] = cancer_data.target\n",
        "\n",
        "X = cancer_df.drop([\"target\"], axis=1)\n",
        "y = cancer_df[\"target\"]\n",
        "\n",
        "X_train, X_test, y_train, y_test = train_test_split(X, y, test_size=0.15, random_state = 417)\n",
        "\n",
        "model = LinearSVC(penalty=\"l2\", loss=\"squared_hinge\", C=10, random_state=417)\n",
        "model.fit(X_train, y_train)\n",
        "\n",
        "test_accuracy = model.score(X_test, y_test)\n",
        "\n",
        "print(test_accuracy)"
      ],
      "metadata": {
        "colab": {
          "base_uri": "https://localhost:8080/"
        },
        "id": "RL9GSRdotDa-",
        "outputId": "f044770e-d095-43fe-f1d1-fb213e261b53"
      },
      "execution_count": null,
      "outputs": [
        {
          "output_type": "stream",
          "name": "stdout",
          "text": [
            "0.8255813953488372\n"
          ]
        }
      ]
    },
    {
      "cell_type": "markdown",
      "source": [
        "The Machine Learning Workflow\n",
        "7 of 10 ·\n",
        "#Fine-tuning the Model\n",
        "Learn\n",
        "Our model got an accuracy score of approximately 82.56. That means roughly 82.56% of our predictions were correct.\n",
        "\n",
        "That's a pretty good result, but building machine learning models is an iterative process. We can try to improve upon our result.\n",
        "\n",
        "\n",
        "When we instantiated the LinearSVC model, we defined the following parameters:\n",
        "\n",
        "penalty=\"l2\"\n",
        "loss=\"squared_hinge\"\n",
        "C=10\n",
        "While we don't know what these values imply for our model, we can experiment with them.\n",
        "\n",
        "In an attempt to improve upon our result, we will:\n",
        "\n",
        "Change the values to one of the above parameters.\n",
        "Add and set another parameter from the documentation.\n",
        "##Instructions\n",
        "Create an instance of LinearSVC and assign it to model. Pass the following parameters when instantiating:\n",
        "penalty=\"l2\"\n",
        "loss=\"squared_hinge\"\n",
        "C=20\n",
        "max_iter=3500\n",
        "random_state=417\n",
        "This ensures that the result is reproducible.\n",
        "Call model.fit() and pass the following parameters to the function:\n",
        "X_train\n",
        "y_train"
      ],
      "metadata": {
        "id": "1JRg8UbAt3xA"
      }
    },
    {
      "cell_type": "code",
      "source": [
        "import pandas as pd\n",
        "from sklearn.datasets import load_breast_cancer\n",
        "from sklearn.model_selection import train_test_split\n",
        "from sklearn.svm import LinearSVC\n",
        "\n",
        "cancer_data = load_breast_cancer(as_frame = True)\n",
        "cancer_df = cancer_data.data\n",
        "cancer_df['target'] = cancer_data.target\n",
        "\n",
        "X = cancer_df.drop([\"target\"], axis=1)\n",
        "y = cancer_df[\"target\"]\n",
        "\n",
        "X_train, X_test, y_train, y_test = train_test_split(X, y, test_size=0.15, random_state = 417)\n",
        "\n",
        "model = LinearSVC(penalty=\"l2\", loss=\"squared_hinge\", C=20, max_iter=3500, random_state=417)\n",
        "\n",
        "model.fit(X_train, y_train)"
      ],
      "metadata": {
        "colab": {
          "base_uri": "https://localhost:8080/",
          "height": 74
        },
        "id": "nZWNpFAsuEGn",
        "outputId": "b635f4fc-9d7c-470b-9278-baa8e4be0b3f"
      },
      "execution_count": null,
      "outputs": [
        {
          "output_type": "execute_result",
          "data": {
            "text/plain": [
              "LinearSVC(C=20, max_iter=3500, random_state=417)"
            ],
            "text/html": [
              "<style>#sk-container-id-2 {color: black;background-color: white;}#sk-container-id-2 pre{padding: 0;}#sk-container-id-2 div.sk-toggleable {background-color: white;}#sk-container-id-2 label.sk-toggleable__label {cursor: pointer;display: block;width: 100%;margin-bottom: 0;padding: 0.3em;box-sizing: border-box;text-align: center;}#sk-container-id-2 label.sk-toggleable__label-arrow:before {content: \"▸\";float: left;margin-right: 0.25em;color: #696969;}#sk-container-id-2 label.sk-toggleable__label-arrow:hover:before {color: black;}#sk-container-id-2 div.sk-estimator:hover label.sk-toggleable__label-arrow:before {color: black;}#sk-container-id-2 div.sk-toggleable__content {max-height: 0;max-width: 0;overflow: hidden;text-align: left;background-color: #f0f8ff;}#sk-container-id-2 div.sk-toggleable__content pre {margin: 0.2em;color: black;border-radius: 0.25em;background-color: #f0f8ff;}#sk-container-id-2 input.sk-toggleable__control:checked~div.sk-toggleable__content {max-height: 200px;max-width: 100%;overflow: auto;}#sk-container-id-2 input.sk-toggleable__control:checked~label.sk-toggleable__label-arrow:before {content: \"▾\";}#sk-container-id-2 div.sk-estimator input.sk-toggleable__control:checked~label.sk-toggleable__label {background-color: #d4ebff;}#sk-container-id-2 div.sk-label input.sk-toggleable__control:checked~label.sk-toggleable__label {background-color: #d4ebff;}#sk-container-id-2 input.sk-hidden--visually {border: 0;clip: rect(1px 1px 1px 1px);clip: rect(1px, 1px, 1px, 1px);height: 1px;margin: -1px;overflow: hidden;padding: 0;position: absolute;width: 1px;}#sk-container-id-2 div.sk-estimator {font-family: monospace;background-color: #f0f8ff;border: 1px dotted black;border-radius: 0.25em;box-sizing: border-box;margin-bottom: 0.5em;}#sk-container-id-2 div.sk-estimator:hover {background-color: #d4ebff;}#sk-container-id-2 div.sk-parallel-item::after {content: \"\";width: 100%;border-bottom: 1px solid gray;flex-grow: 1;}#sk-container-id-2 div.sk-label:hover label.sk-toggleable__label {background-color: #d4ebff;}#sk-container-id-2 div.sk-serial::before {content: \"\";position: absolute;border-left: 1px solid gray;box-sizing: border-box;top: 0;bottom: 0;left: 50%;z-index: 0;}#sk-container-id-2 div.sk-serial {display: flex;flex-direction: column;align-items: center;background-color: white;padding-right: 0.2em;padding-left: 0.2em;position: relative;}#sk-container-id-2 div.sk-item {position: relative;z-index: 1;}#sk-container-id-2 div.sk-parallel {display: flex;align-items: stretch;justify-content: center;background-color: white;position: relative;}#sk-container-id-2 div.sk-item::before, #sk-container-id-2 div.sk-parallel-item::before {content: \"\";position: absolute;border-left: 1px solid gray;box-sizing: border-box;top: 0;bottom: 0;left: 50%;z-index: -1;}#sk-container-id-2 div.sk-parallel-item {display: flex;flex-direction: column;z-index: 1;position: relative;background-color: white;}#sk-container-id-2 div.sk-parallel-item:first-child::after {align-self: flex-end;width: 50%;}#sk-container-id-2 div.sk-parallel-item:last-child::after {align-self: flex-start;width: 50%;}#sk-container-id-2 div.sk-parallel-item:only-child::after {width: 0;}#sk-container-id-2 div.sk-dashed-wrapped {border: 1px dashed gray;margin: 0 0.4em 0.5em 0.4em;box-sizing: border-box;padding-bottom: 0.4em;background-color: white;}#sk-container-id-2 div.sk-label label {font-family: monospace;font-weight: bold;display: inline-block;line-height: 1.2em;}#sk-container-id-2 div.sk-label-container {text-align: center;}#sk-container-id-2 div.sk-container {/* jupyter's `normalize.less` sets `[hidden] { display: none; }` but bootstrap.min.css set `[hidden] { display: none !important; }` so we also need the `!important` here to be able to override the default hidden behavior on the sphinx rendered scikit-learn.org. See: https://github.com/scikit-learn/scikit-learn/issues/21755 */display: inline-block !important;position: relative;}#sk-container-id-2 div.sk-text-repr-fallback {display: none;}</style><div id=\"sk-container-id-2\" class=\"sk-top-container\"><div class=\"sk-text-repr-fallback\"><pre>LinearSVC(C=20, max_iter=3500, random_state=417)</pre><b>In a Jupyter environment, please rerun this cell to show the HTML representation or trust the notebook. <br />On GitHub, the HTML representation is unable to render, please try loading this page with nbviewer.org.</b></div><div class=\"sk-container\" hidden><div class=\"sk-item\"><div class=\"sk-estimator sk-toggleable\"><input class=\"sk-toggleable__control sk-hidden--visually\" id=\"sk-estimator-id-2\" type=\"checkbox\" checked><label for=\"sk-estimator-id-2\" class=\"sk-toggleable__label sk-toggleable__label-arrow\">LinearSVC</label><div class=\"sk-toggleable__content\"><pre>LinearSVC(C=20, max_iter=3500, random_state=417)</pre></div></div></div></div></div>"
            ]
          },
          "metadata": {},
          "execution_count": 11
        }
      ]
    },
    {
      "cell_type": "markdown",
      "source": [
        "The Machine Learning Workflow\n",
        "8 of 10 ·\n",
        "#Evaluating the Model on Test Set II\n",
        "Learn\n",
        "In the last screen, we fine-tuned our model. We don't know yet if that improved our model's performance.\n",
        "\n",
        "Before we evaluate our model on the test set, let's look at the following plot:\n",
        "\n",
        "\n",
        "We can notice that there are yellow dots on the left side and there are purple on the right side of the decision boundary. The above is meant to be a simplified representation of how the decision boundary can't always capture the complexity of the data.\n",
        "\n",
        "What happens when we add a point to the above plot? Will it be correctly classified?\n",
        "\n",
        "We can't be sure. Our model is not going to be perfect. It's not going to give us a 100% accuracy, even if we keep experimenting with different parameter values.\n",
        "\n",
        "Let's see how our updated model performs on the test set.\n",
        "\n",
        "\n",
        "##Instructions\n",
        "Call model.score(), assign it to test_accuracy, and pass in the following parameters:\n",
        "X_test\n",
        "y_test\n",
        "Print out the accuracy score obtained from the above function call."
      ],
      "metadata": {
        "id": "HxGcTM4jupVq"
      }
    },
    {
      "cell_type": "code",
      "source": [
        "import pandas as pd\n",
        "from sklearn.datasets import load_breast_cancer\n",
        "from sklearn.model_selection import train_test_split\n",
        "from sklearn.svm import LinearSVC\n",
        "\n",
        "cancer_data = load_breast_cancer(as_frame = True)\n",
        "cancer_df = cancer_data.data\n",
        "cancer_df['target'] = cancer_data.target\n",
        "\n",
        "X = cancer_df.drop([\"target\"], axis=1)\n",
        "y = cancer_df[\"target\"]\n",
        "\n",
        "X_train, X_test, y_train, y_test = train_test_split(X, y, test_size=0.15, random_state = 417)\n",
        "\n",
        "model = LinearSVC(penalty=\"l2\", loss=\"squared_hinge\", C=20, max_iter=3500, random_state=417)\n",
        "model.fit(X_train, y_train)\n",
        "\n",
        "test_accuracy = model.score(X_test, y_test)\n",
        "print(test_accuracy)"
      ],
      "metadata": {
        "colab": {
          "base_uri": "https://localhost:8080/"
        },
        "id": "3pSbT4TluwIB",
        "outputId": "4cafcfcf-8b9b-4b09-83da-a6c8d15ea4e1"
      },
      "execution_count": null,
      "outputs": [
        {
          "output_type": "stream",
          "name": "stdout",
          "text": [
            "0.872093023255814\n"
          ]
        },
        {
          "output_type": "stream",
          "name": "stderr",
          "text": [
            "/usr/local/lib/python3.10/dist-packages/sklearn/svm/_base.py:1244: ConvergenceWarning: Liblinear failed to converge, increase the number of iterations.\n",
            "  warnings.warn(\n"
          ]
        }
      ]
    }
  ]
}